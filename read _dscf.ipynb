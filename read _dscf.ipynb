{
 "cells": [
  {
   "cell_type": "code",
   "execution_count": 1,
   "metadata": {},
   "outputs": [],
   "source": [
    "import numpy as np\n",
    "import re\n",
    "#import pandas as pd\n",
    "import matplotlib.pyplot as plt\n",
    "from astropy.table import Table, Column\n",
    "%matplotlib inline\n",
    "%config InlineBackend.figure_format = 'svg'"
   ]
  },
  {
   "cell_type": "code",
   "execution_count": 2,
   "metadata": {},
   "outputs": [],
   "source": [
    "def extract(filename):\n",
    "    with open(filename,'r') as file_object:\n",
    "        line = file_object.readlines()\n",
    "    matchers = ['|  total energy','kinetic energy','potential energy']\n",
    "    matching = [s for s in line if any(xs in s for xs in matchers)]\n",
    "    matching = np.array(matching)\n",
    "    e_list = matching[0]\n",
    "    ke_list = matching[1]\n",
    "    pe_list = matching[2]\n",
    "    e = e_list.split()\n",
    "    ke = ke_list.split()\n",
    "    pe = pe_list.split()\n",
    "    e = np.float(e[-2])\n",
    "    ke = np.float(ke[-2])\n",
    "    pe = np.float(pe[-2])\n",
    "    return e,ke,pe"
   ]
  },
  {
   "cell_type": "code",
   "execution_count": 3,
   "metadata": {},
   "outputs": [],
   "source": [
    "pbe0 = 'pbe0/dscf.out'\n",
    "m062x = 'm062x/dscf.out'\n",
    "b3lyp = 'b3lyp/dscf.out'\n",
    "bhlyp = 'bhlyp/dscf.out'"
   ]
  },
  {
   "cell_type": "code",
   "execution_count": 5,
   "metadata": {},
   "outputs": [],
   "source": [
    "a = extract('1_azapyrene_pbe0_tzvp_dscf.out')"
   ]
  },
  {
   "cell_type": "code",
   "execution_count": 6,
   "metadata": {},
   "outputs": [
    {
     "name": "stdout",
     "output_type": "stream",
     "text": [
      "(-631.32227733298, 627.43967594103, -1258.76195327401)\n"
     ]
    }
   ],
   "source": [
    "print(a)"
   ]
  },
  {
   "cell_type": "code",
   "execution_count": null,
   "metadata": {},
   "outputs": [],
   "source": []
  },
  {
   "cell_type": "code",
   "execution_count": null,
   "metadata": {},
   "outputs": [],
   "source": []
  },
  {
   "cell_type": "code",
   "execution_count": null,
   "metadata": {},
   "outputs": [],
   "source": []
  },
  {
   "cell_type": "code",
   "execution_count": null,
   "metadata": {},
   "outputs": [],
   "source": [
    "a = np.array(a,dtype=)"
   ]
  },
  {
   "cell_type": "code",
   "execution_count": 39,
   "metadata": {},
   "outputs": [],
   "source": [
    "t = Table()\n",
    "t['a'] = [1, 4]\n",
    "t['b'] = Column([2.0, 5.0], unit='cm', description='Velocity')\n",
    "t['c'] = ['x', 'y']\n",
    "\n",
    "t = Table(names=('a', 'b', 'c'), dtype=('f4', 'i4', 'S2'))\n",
    "t.add_row((1, 2.0, 'x'))\n",
    "t.add_row((4, 5.0, 'y'))"
   ]
  },
  {
   "cell_type": "code",
   "execution_count": 40,
   "metadata": {},
   "outputs": [
    {
     "name": "stdout",
     "output_type": "stream",
     "text": [
      " a   b   c \n",
      "--- --- ---\n",
      "1.0   2   x\n",
      "4.0   5   y\n"
     ]
    }
   ],
   "source": [
    "print(t)"
   ]
  },
  {
   "cell_type": "code",
   "execution_count": null,
   "metadata": {},
   "outputs": [],
   "source": []
  }
 ],
 "metadata": {
  "kernelspec": {
   "display_name": "Python 3",
   "language": "python",
   "name": "python3"
  },
  "language_info": {
   "codemirror_mode": {
    "name": "ipython",
    "version": 3
   },
   "file_extension": ".py",
   "mimetype": "text/x-python",
   "name": "python",
   "nbconvert_exporter": "python",
   "pygments_lexer": "ipython3",
   "version": "3.6.6"
  },
  "latex_envs": {
   "LaTeX_envs_menu_present": true,
   "autoclose": false,
   "autocomplete": true,
   "bibliofile": "biblio.bib",
   "cite_by": "apalike",
   "current_citInitial": 1,
   "eqLabelWithNumbers": true,
   "eqNumInitial": 1,
   "hotkeys": {
    "equation": "Ctrl-E",
    "itemize": "Ctrl-I"
   },
   "labels_anchors": false,
   "latex_user_defs": false,
   "report_style_numbering": false,
   "user_envs_cfg": false
  },
  "toc": {
   "base_numbering": 1,
   "nav_menu": {},
   "number_sections": true,
   "sideBar": true,
   "skip_h1_title": false,
   "title_cell": "Table of Contents",
   "title_sidebar": "Contents",
   "toc_cell": false,
   "toc_position": {},
   "toc_section_display": true,
   "toc_window_display": true
  }
 },
 "nbformat": 4,
 "nbformat_minor": 2
}
