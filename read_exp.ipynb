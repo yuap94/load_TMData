{
 "cells": [
  {
   "cell_type": "code",
   "execution_count": 8,
   "metadata": {},
   "outputs": [],
   "source": [
    "import numpy as np\n",
    "import re\n",
    "#import pandas as pd\n",
    "import matplotlib.pyplot as plt\n",
    "%matplotlib inline\n",
    "%config InlineBackend.figure_format = 'svg'"
   ]
  },
  {
   "cell_type": "code",
   "execution_count": 9,
   "metadata": {},
   "outputs": [],
   "source": [
    "def NumberFromStrings(string):\n",
    "    numberfromstring = re.findall(r'-?\\d+',string)\n",
    "    return numberfromstring"
   ]
  },
  {
   "cell_type": "code",
   "execution_count": 10,
   "metadata": {},
   "outputs": [],
   "source": [
    "filename = 'All_pyren_DAP.csv' \n",
    "with open(filename,'r') as file_object:\n",
    "    line = file_object.readlines()\n",
    "    #matchers = [' Excitation energy / nm:','length representation:']\n",
    "    #matching = [s for s in line if any(xs in s for xs in matchers)]"
   ]
  },
  {
   "cell_type": "code",
   "execution_count": 11,
   "metadata": {},
   "outputs": [
    {
     "name": "stdout",
     "output_type": "stream",
     "text": [
      "['ACN_1E-5,,ACN_1E-6,,ACN_1E-4,,DCM_Pyren_2_3E-5,,DCM_Pyren_4_75E-4,,\\n', 'Wavelength (nm),Abs,Wavelength (nm),Abs,Wavelength (nm),Abs,Wavelength (nm),Abs,Wavelength (nm),Abs,\\n']\n"
     ]
    }
   ],
   "source": [
    "print(line[0:2])"
   ]
  },
  {
   "cell_type": "code",
   "execution_count": 40,
   "metadata": {},
   "outputs": [],
   "source": [
    "a = line[3]"
   ]
  },
  {
   "cell_type": "code",
   "execution_count": 41,
   "metadata": {},
   "outputs": [
    {
     "name": "stdout",
     "output_type": "stream",
     "text": [
      "998.999939,1.560951932E-5,998.999939,0.0009999085451,998.999939,2.917446545E-5,998.999939,-0.0003037432616,998.999939,0.001090649865,\n",
      "\n",
      "9\n",
      "['998', '999939', '1', '560951932', '-5', '998', '999939', '0', '0009999085451', '998', '999939', '2', '917446545', '-5', '998', '999939', '-0', '0003037432616', '998', '999939', '0', '001090649865']\n"
     ]
    }
   ],
   "source": [
    "print(a)\n",
    "print(a[0])\n",
    "b = NumberFromStrings(a)\n",
    "print(b)\n",
    "#b.astype(float)"
   ]
  },
  {
   "cell_type": "code",
   "execution_count": 37,
   "metadata": {},
   "outputs": [],
   "source": [
    "a = np.array([a])"
   ]
  },
  {
   "cell_type": "code",
   "execution_count": 38,
   "metadata": {},
   "outputs": [
    {
     "name": "stdout",
     "output_type": "stream",
     "text": [
      "['998.999939,1.560951932E-5,998.999939,0.0009999085451,998.999939,2.917446545E-5,998.999939,-0.0003037432616,998.999939,0.001090649865,\\n']\n"
     ]
    }
   ],
   "source": [
    "print(a)"
   ]
  },
  {
   "cell_type": "code",
   "execution_count": null,
   "metadata": {},
   "outputs": [],
   "source": []
  }
 ],
 "metadata": {
  "kernelspec": {
   "display_name": "Python 3",
   "language": "python",
   "name": "python3"
  },
  "language_info": {
   "codemirror_mode": {
    "name": "ipython",
    "version": 3
   },
   "file_extension": ".py",
   "mimetype": "text/x-python",
   "name": "python",
   "nbconvert_exporter": "python",
   "pygments_lexer": "ipython3",
   "version": "3.6.7"
  }
 },
 "nbformat": 4,
 "nbformat_minor": 2
}
